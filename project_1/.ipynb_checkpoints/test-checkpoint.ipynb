{
 "cells": [
  {
   "cell_type": "code",
   "execution_count": 1,
   "metadata": {},
   "outputs": [],
   "source": [
    "import torch\n",
    "import math\n",
    "from torch import optim\n",
    "from torch import Tensor\n",
    "from torch.autograd import Variable\n",
    "from torch import nn\n",
    "from torch.nn import functional as F\n",
    "import matplotlib.pyplot as plt\n",
    "%matplotlib inline\n",
    "import warnings\n",
    "warnings.filterwarnings('ignore')"
   ]
  },
  {
   "cell_type": "code",
   "execution_count": 2,
   "metadata": {},
   "outputs": [],
   "source": [
    "# loading data\n",
    "import dlc_practical_prologue as prologue\n",
    "train_input,train_target,train_class,test_input,test_target,test_class=prologue.generate_pair_sets(1000)"
   ]
  },
  {
   "cell_type": "code",
   "execution_count": 3,
   "metadata": {},
   "outputs": [],
   "source": [
    "# import our script\n",
    "import model as model\n",
    "import evaluate as evaluate\n",
    "import train as train\n",
    "import initialization as init"
   ]
  },
  {
   "cell_type": "code",
   "execution_count": 4,
   "metadata": {},
   "outputs": [
    {
     "name": "stdout",
     "output_type": "stream",
     "text": [
      "Epoch: 1/20.. Digit Training Loss: 4.5208.. Digit Training Accuracy: 0.1735.. Boolea n Training Accuracy: 0.5210.. Digit Validation Loss: 4.5333.. Digit Validation Accuracy: 0.1570.. Boolean Validation Accuracy: 0.5020..\n",
      "Epoch: 2/20.. Digit Training Loss: 4.0192.. Digit Training Accuracy: 0.2690.. Boolea n Training Accuracy: 0.5760.. Digit Validation Loss: 4.0698.. Digit Validation Accuracy: 0.2690.. Boolean Validation Accuracy: 0.5840..\n",
      "Epoch: 3/20.. Digit Training Loss: 2.5800.. Digit Training Accuracy: 0.5940.. Boolea n Training Accuracy: 0.7610.. Digit Validation Loss: 2.7020.. Digit Validation Accuracy: 0.5980.. Boolean Validation Accuracy: 0.7470..\n",
      "Epoch: 4/20.. Digit Training Loss: 1.3949.. Digit Training Accuracy: 0.7810.. Boolea n Training Accuracy: 0.8390.. Digit Validation Loss: 1.5543.. Digit Validation Accuracy: 0.7550.. Boolean Validation Accuracy: 0.8030..\n",
      "Epoch: 5/20.. Digit Training Loss: 0.8127.. Digit Training Accuracy: 0.8735.. Boolea n Training Accuracy: 0.9160.. Digit Validation Loss: 1.0393.. Digit Validation Accuracy: 0.8360.. Boolean Validation Accuracy: 0.8860..\n",
      "Epoch: 6/20.. Digit Training Loss: 0.6583.. Digit Training Accuracy: 0.8980.. Boolea n Training Accuracy: 0.9130.. Digit Validation Loss: 0.9228.. Digit Validation Accuracy: 0.8530.. Boolean Validation Accuracy: 0.9070..\n",
      "Epoch: 7/20.. Digit Training Loss: 0.6508.. Digit Training Accuracy: 0.8885.. Boolea n Training Accuracy: 0.9100.. Digit Validation Loss: 0.9562.. Digit Validation Accuracy: 0.8595.. Boolean Validation Accuracy: 0.9050..\n",
      "Epoch: 8/20.. Digit Training Loss: 0.5594.. Digit Training Accuracy: 0.9070.. Boolea n Training Accuracy: 0.9330.. Digit Validation Loss: 0.8543.. Digit Validation Accuracy: 0.8710.. Boolean Validation Accuracy: 0.9110..\n",
      "Epoch: 9/20.. Digit Training Loss: 0.3411.. Digit Training Accuracy: 0.9445.. Boolea n Training Accuracy: 0.9540.. Digit Validation Loss: 0.7841.. Digit Validation Accuracy: 0.8885.. Boolean Validation Accuracy: 0.9190..\n",
      "Epoch: 10/20.. Digit Training Loss: 0.3915.. Digit Training Accuracy: 0.9335.. Boolea n Training Accuracy: 0.9510.. Digit Validation Loss: 0.8720.. Digit Validation Accuracy: 0.8805.. Boolean Validation Accuracy: 0.9200..\n",
      "Epoch: 11/20.. Digit Training Loss: 0.3059.. Digit Training Accuracy: 0.9490.. Boolea n Training Accuracy: 0.9510.. Digit Validation Loss: 0.8134.. Digit Validation Accuracy: 0.8965.. Boolean Validation Accuracy: 0.9220..\n",
      "Epoch: 12/20.. Digit Training Loss: 0.2240.. Digit Training Accuracy: 0.9675.. Boolea n Training Accuracy: 0.9740.. Digit Validation Loss: 0.8056.. Digit Validation Accuracy: 0.8805.. Boolean Validation Accuracy: 0.9130..\n",
      "Epoch: 13/20.. Digit Training Loss: 0.2134.. Digit Training Accuracy: 0.9625.. Boolea n Training Accuracy: 0.9700.. Digit Validation Loss: 0.8982.. Digit Validation Accuracy: 0.8845.. Boolean Validation Accuracy: 0.9160..\n",
      "Epoch: 14/20.. Digit Training Loss: 0.2471.. Digit Training Accuracy: 0.9600.. Boolea n Training Accuracy: 0.9770.. Digit Validation Loss: 0.9447.. Digit Validation Accuracy: 0.8760.. Boolean Validation Accuracy: 0.8990..\n",
      "Epoch: 15/20.. Digit Training Loss: 0.1923.. Digit Training Accuracy: 0.9675.. Boolea n Training Accuracy: 0.9740.. Digit Validation Loss: 0.9673.. Digit Validation Accuracy: 0.8805.. Boolean Validation Accuracy: 0.9160..\n",
      "Epoch: 16/20.. Digit Training Loss: 0.1884.. Digit Training Accuracy: 0.9665.. Boolea n Training Accuracy: 0.9720.. Digit Validation Loss: 1.1240.. Digit Validation Accuracy: 0.8845.. Boolean Validation Accuracy: 0.9080..\n",
      "Epoch: 17/20.. Digit Training Loss: 0.2153.. Digit Training Accuracy: 0.9560.. Boolea n Training Accuracy: 0.9580.. Digit Validation Loss: 1.1438.. Digit Validation Accuracy: 0.8720.. Boolean Validation Accuracy: 0.9080..\n",
      "Epoch: 18/20.. Digit Training Loss: 0.0921.. Digit Training Accuracy: 0.9830.. Boolea n Training Accuracy: 0.9870.. Digit Validation Loss: 0.8755.. Digit Validation Accuracy: 0.9015.. Boolean Validation Accuracy: 0.9280..\n",
      "Epoch: 19/20.. Digit Training Loss: 0.1399.. Digit Training Accuracy: 0.9790.. Boolea n Training Accuracy: 0.9790.. Digit Validation Loss: 1.0735.. Digit Validation Accuracy: 0.8790.. Boolean Validation Accuracy: 0.9130..\n",
      "Epoch: 20/20.. Digit Training Loss: 0.1682.. Digit Training Accuracy: 0.9695.. Boolea n Training Accuracy: 0.9730.. Digit Validation Loss: 1.3698.. Digit Validation Accuracy: 0.8730.. Boolean Validation Accuracy: 0.9130..\n",
      "Best Validation Accuracy of Boolean Classification from CNN Trained Directly on Digit Class: 0.928\n"
     ]
    }
   ],
   "source": [
    "temp_train_input,temp_train_target,temp_train_class=init.data_init(train_input,train_target, train_class, num=1000)\n",
    "model_digit=model.CNN_digit()\n",
    "model_digit.apply(init.weights_init)\n",
    "_,_,_,train_accuracy_from_digit,_,_,test_accuracy_from_digit=train.train_by_digit(model_digit,\\\n",
    "                                                                                  temp_train_input,temp_train_target,temp_train_class, \\\n",
    "                                                                                  test_input, test_target, test_class, \\\n",
    "                                                                                  if_print=True, \\\n",
    "                                                                                  epochs=20,learning_rate=0.01,momentum=0.9)\n",
    "evaluate(train_accuracy_from_digit,test_accuracy_from_digit,'Accuracy of Boolean Classification from CNN Trained Directly on Digit Class')\n",
    "print('Best Validation Accuracy of Boolean Classification from CNN Trained Directly on Digit Class: '+str(max(test_accuracy_from_digit)))"
   ]
  },
  {
   "cell_type": "code",
   "execution_count": null,
   "metadata": {},
   "outputs": [],
   "source": []
  }
 ],
 "metadata": {
  "kernelspec": {
   "display_name": "Python 3",
   "language": "python",
   "name": "python3"
  },
  "language_info": {
   "codemirror_mode": {
    "name": "ipython",
    "version": 3
   },
   "file_extension": ".py",
   "mimetype": "text/x-python",
   "name": "python",
   "nbconvert_exporter": "python",
   "pygments_lexer": "ipython3",
   "version": "3.5.6"
  }
 },
 "nbformat": 4,
 "nbformat_minor": 2
}
